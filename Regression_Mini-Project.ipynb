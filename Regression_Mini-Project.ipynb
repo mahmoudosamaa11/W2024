{
  "cells": [
    {
      "cell_type": "markdown",
      "metadata": {
        "id": "view-in-github",
        "colab_type": "text"
      },
      "source": [
        "<a href=\"https://colab.research.google.com/github/mahmoudosamaa11/W2024/blob/main/Regression_Mini-Project.ipynb\" target=\"_parent\"><img src=\"https://colab.research.google.com/assets/colab-badge.svg\" alt=\"Open In Colab\"/></a>"
      ]
    },
    {
      "cell_type": "markdown",
      "metadata": {
        "id": "2gXt9iUEpcpJ"
      },
      "source": [
        "# Linear Regression - Mini-Project 1\n"
      ]
    },
    {
      "cell_type": "markdown",
      "metadata": {
        "id": "32VwKxkspcpM"
      },
      "source": [
        "***Edit this cell with your name(s), tutorial number(s) and ID(s)***\n",
        "\n",
        "---\n",
        "\n",
        "Name:Mahmoud Osama\n",
        "\n",
        "ID:52-0983\n",
        "\n",
        "Tutorial:T6\n",
        "\n",
        "---\n",
        "\n",
        "Name:\n",
        "\n",
        "ID:\n",
        "\n",
        "Tutorial:\n",
        "\n",
        "---\n"
      ]
    },
    {
      "cell_type": "markdown",
      "metadata": {
        "id": "ISXqEayGpcpN"
      },
      "source": [
        "## Dataset Description\n",
        "\n",
        "The dataset contains historical car auction sales prices, scraped from the outside internet sources and collected in 2015.\n",
        "\n",
        "Each row represents a sale at a used car auction. Each column is described below.\n",
        "\n",
        "| Column       | Description                                                                                          |\n",
        "| ------------ | ---------------------------------------------------------------------------------------------------- |\n",
        "| year         | Car's year of production                                                                             |\n",
        "| make         | Car make/brand                                                                                       |\n",
        "| model        | Car model                                                                                            |\n",
        "| trim         | Car's trim or grade, which specifies a car model's level of performance, features, options or extras |\n",
        "| body         | Car body type (e.g. Sedan, SUV, Coupe, etc.)                                                         |\n",
        "| transmission | Car transmission type. The mechanism that moves the power from the engine to the wheels.             |\n",
        "| vin          | Vehicle Identification Number, a unique code to identify individual motor vehicles.                  |\n",
        "| state        | The state in which the car was auctioned.                                                            |\n",
        "| condition    | The condition of the cars being at the time of auction, 5 being the best score and 1 being the worst.|\n",
        "| odometer     | The distance traveled by a vehicle since being manufactured, in miles                                |\n",
        "| color        | Exterior color of the car                                                                            |\n",
        "| interior     | Interior color of the car                                                                            |\n",
        "| seller       | The seller of the car or car dealer                                                                  |\n",
        "| sellingprice | The price a car was sold at in auction.                                                              |\n",
        "| saledate     | The date on which the car has been sold.                                                             |\n",
        "\n"
      ]
    },
    {
      "cell_type": "markdown",
      "metadata": {
        "id": "d5kV7nF8pcpN"
      },
      "source": [
        "## Importing Libraries \\& Dataset\n"
      ]
    },
    {
      "cell_type": "code",
      "execution_count": null,
      "metadata": {
        "id": "M3xE50Z1pcpO"
      },
      "outputs": [],
      "source": [
        "import pandas as pd\n",
        "import numpy as np\n",
        "import matplotlib.pyplot as plt\n",
        "import seaborn as sns\n",
        "\n",
        "%matplotlib inline\n",
        "sns.set()\n",
        "\n",
        "try:\n",
        "    df = pd.read_csv('car_prices.csv')\n",
        "except:\n",
        "    df = pd.read_csv('https://raw.githubusercontent.com/GUC-DM/W2024/refs/heads/main/data/car_prices.csv')\n",
        "\n",
        "df.head()"
      ]
    },
    {
      "cell_type": "markdown",
      "metadata": {
        "id": "YHtLigu3pcpP"
      },
      "source": [
        "## Data Inspection\n",
        "\n",
        "Perform data inspection tasks here (recommended for data understanding)."
      ]
    },
    {
      "cell_type": "code",
      "execution_count": null,
      "metadata": {
        "id": "BGcItTAqpcpP"
      },
      "outputs": [],
      "source": [
        "df.describe()\n"
      ]
    },
    {
      "cell_type": "markdown",
      "metadata": {
        "id": "tGd95kbGpcpQ"
      },
      "source": [
        "## Data Pre-Processing & Cleaning\n",
        "\n",
        "_Apply any data preprocessing and/or feature engineering below. Show/output the changes to the dataset._"
      ]
    },
    {
      "cell_type": "code",
      "execution_count": null,
      "metadata": {
        "id": "SBWiT42jpcpQ"
      },
      "outputs": [],
      "source": [
        "import pandas as pd\n",
        "\n",
        "# Load the dataset\n",
        "try:\n",
        "    df = pd.read_csv('car_prices.csv')\n",
        "except:\n",
        "    df = pd.read_csv('https://raw.githubusercontent.com/GUC-DM/W2024/refs/heads/main/data/car_prices.csv')\n",
        "\n",
        "# Check the first few rows and data types to understand the current state of the DataFrame\n",
        "print(df.head())\n",
        "print(df.dtypes)\n",
        "\n",
        "# Ensure 'SellingPrice' column is in string format before processing\n",
        "df['sellingprice'] = df['sellingprice'].astype(str)\n",
        "\n",
        "# Data Pre-Processing: Remove currency symbols and commas and convert to float for 'sellingprice'\n",
        "df['sellingprice'] = df['sellingprice'].str.replace('[\\$,]', '', regex=True).astype(float)\n",
        "\n",
        "# Data Pre-Processing: Remove 'mi' suffix and convert to float for 'odometer'\n",
        "df['odometer'] = df['odometer'].str.replace('mi', '').astype(float)\n",
        "\n",
        "# Replace null values in 'odometer' with the mode (direct assignment to avoid SettingWithCopyWarning)\n",
        "odometer_mode = df['odometer'].mode()[0]\n",
        "df['odometer'] = df['odometer'].fillna(odometer_mode)\n",
        "\n",
        "\n",
        "# Convert the \"body\" column to lowercase\n",
        "df['body'] = df['body'].str.lower()\n",
        "\n",
        "# Create a mapping to standardize the \"body\" types\n",
        "body_mapping = {\n",
        "    'sedan': 'Sedan',\n",
        "    'suv': 'SUV',\n",
        "    'koup': 'Coupe',\n",
        "    'convertible': 'Convertible',\n",
        "    'hatchback': 'Hatchback',\n",
        "    'van': 'Minivan',\n",
        "    'wagon': 'Wagon',\n",
        "    'cap': 'Pickup Truck',\n",
        "    'cab': 'Pickup Truck',\n",
        "    'crew': 'Pickup Truck',\n",
        "    'pickup truck': 'Pickup Truck',\n",
        "    'coupe': 'Coupe'\n",
        "}\n",
        "\n",
        "# Apply the mapping to the \"body\" column\n",
        "df['body'] = df['body'].map(body_mapping)\n",
        "\n",
        "# Display the first few rows of the cleaned dataset\n",
        "print(df.head())\n"
      ]
    },
    {
      "cell_type": "markdown",
      "metadata": {
        "id": "zh1D5rcZpcpQ"
      },
      "source": [
        "## Exploratory Data Analysis\n"
      ]
    },
    {
      "cell_type": "markdown",
      "metadata": {
        "id": "EoGOS17QpcpQ"
      },
      "source": [
        "**Q0 (example): What is the most popular car exterior color?**\n"
      ]
    },
    {
      "cell_type": "markdown",
      "metadata": {
        "id": "WmwKKtCzpcpR"
      },
      "source": [
        "**Visualization**"
      ]
    },
    {
      "cell_type": "code",
      "execution_count": null,
      "metadata": {
        "id": "nPa4HcGdpcpR"
      },
      "outputs": [],
      "source": [
        "# @title Default title text\n",
        "# Basic, minimal plot example\n",
        "sns.countplot(x='color', data=df)"
      ]
    },
    {
      "cell_type": "code",
      "execution_count": null,
      "metadata": {
        "id": "iTCFwrHDpcpR"
      },
      "outputs": [],
      "source": [
        "# Much better plot, with sorting in descending order, rotated x-axis labels for clarity, and a plot title\n",
        "# Your visualizations should be neatly presented like the example below.\n",
        "large_to_small = df.groupby('color').size().sort_values(ascending=False)\n",
        "sns.countplot(x='color', data=df, order=large_to_small.index).set(title='Most popular colors sold on the used car auction market')\n",
        "plt.xticks(rotation=90)\n",
        "plt.tight_layout()"
      ]
    },
    {
      "cell_type": "markdown",
      "metadata": {
        "id": "20_zJKjFpcpR"
      },
      "source": [
        "**Example note:** _you need to answer using a visualization (above) and a written/text answer (below)._\n",
        "\n",
        "**Answer for Q0**: Black is the most popular exterior color of used cars sold in auctions, followed very closely by white."
      ]
    },
    {
      "cell_type": "markdown",
      "metadata": {
        "id": "lDWDCEDEpcpR"
      },
      "source": [
        "** **bold text**Q1: What are the most popular car brands? (mention at least 3)**\n"
      ]
    },
    {
      "cell_type": "markdown",
      "metadata": {
        "id": "XL8Vu0l5pcpR"
      },
      "source": [
        "**Visualization**"
      ]
    },
    {
      "cell_type": "code",
      "execution_count": null,
      "metadata": {
        "id": "aBLxSsVOpcpR"
      },
      "outputs": [],
      "source": [
        "import pandas as pd\n",
        "import matplotlib.pyplot as plt\n",
        "import seaborn as sns\n",
        "\n",
        "\n",
        "# Display the first few rows to confirm data loading\n",
        "print(df.head())\n",
        "\n",
        "# Q1: Count occurrences of each brand\n",
        "brand_counts = df['make'].value_counts()\n",
        "\n",
        "# Get the top 3 most popular brands\n",
        "top_brands = brand_counts.head(3)\n",
        "print(\"Most popular car brands:\\n\", top_brands)\n",
        "\n",
        "# Visualization of the most popular car brands\n",
        "plt.figure(figsize=(10, 6))\n",
        "sns.countplot(y='make', data=df, order=brand_counts.index[:3], palette='viridis')\n",
        "plt.title('Most Popular Car Brands')\n",
        "plt.xlabel('Count')\n",
        "plt.ylabel('Car Brands')\n",
        "plt.show()\n"
      ]
    },
    {
      "cell_type": "markdown",
      "metadata": {
        "id": "CbEaHzJEpcpS"
      },
      "source": [
        "The most popular car brands is Ford,Chevorlet and Nissan"
      ]
    },
    {
      "cell_type": "markdown",
      "metadata": {
        "id": "yF1tFXxFpcpS"
      },
      "source": [
        "**Q2: Do automatic cars, on average, sell for a higher price than manual cars?**\n"
      ]
    },
    {
      "cell_type": "markdown",
      "metadata": {
        "id": "cLuuvqPwpcpS"
      },
      "source": [
        "**Visualization**"
      ]
    },
    {
      "cell_type": "code",
      "execution_count": null,
      "metadata": {
        "id": "4ApAinvQpcpS"
      },
      "outputs": [],
      "source": [
        "import pandas as pd\n",
        "import matplotlib.pyplot as plt\n",
        "import seaborn as sns\n",
        "\n",
        "\n",
        "# Display the first few rows to confirm data loading\n",
        "print(df.head())\n",
        "\n",
        "# Clean the selling price column by removing the dollar sign and converting to float\n",
        "df['sellingprice'] = df['sellingprice'].replace({'\\$': '', ',': ''}, regex=True).astype(float)\n",
        "\n",
        "# Group by transmission type and calculate the average selling price\n",
        "average_prices = df.groupby('transmission')['sellingprice'].mean()\n",
        "\n",
        "# Print the average prices for automatic and manual cars\n",
        "print(\"Average Selling Prices by Transmission Type:\\n\", average_prices)\n",
        "\n",
        "# Visualization\n",
        "plt.figure(figsize=(8, 5))\n",
        "sns.barplot(x=average_prices.index, y=average_prices.values, palette='Set2')\n",
        "plt.title('Average Selling Price by Transmission Type')\n",
        "plt.xlabel('Transmission Type')\n",
        "plt.ylabel('Average Selling Price ($)')\n",
        "plt.show()\n"
      ]
    },
    {
      "cell_type": "markdown",
      "metadata": {
        "id": "y4JvdWJ6pcpS"
      },
      "source": [
        "Yes, Automatic cars sell higher than Manual cars"
      ]
    },
    {
      "cell_type": "markdown",
      "metadata": {
        "id": "ZDX914wcpcpS"
      },
      "source": [
        "**Q3: Draw a box plot showing the distribution of the selling prices of each car make. Which car makes have the widest distribution of selling price (name two)? Which are the most expensive (name two)?**\n"
      ]
    },
    {
      "cell_type": "markdown",
      "metadata": {
        "id": "-bkUXg5IpcpS"
      },
      "source": [
        "**Visualization**"
      ]
    },
    {
      "cell_type": "code",
      "execution_count": null,
      "metadata": {
        "id": "EIGOylwupcpS"
      },
      "outputs": [],
      "source": [
        "import pandas as pd\n",
        "import matplotlib.pyplot as plt\n",
        "import seaborn as sns\n",
        "\n",
        "\n",
        "# Clean the 'sellingprice' column to ensure it is numeric\n",
        "df['sellingprice'] = df['sellingprice'].replace({'\\$': '', ',': ''}, regex=True).astype(float)\n",
        "\n",
        "# Create a box plot\n",
        "plt.figure(figsize=(12, 8))\n",
        "sns.boxplot(data=df, x='make', y='sellingprice', width=0.5, linewidth=1.5, whis=1.5, color='lightgray')\n",
        "\n",
        "# Set labels and title\n",
        "plt.xlabel('Car Make')\n",
        "plt.ylabel('Selling Price ($)')\n",
        "plt.title('Distribution of Selling Prices by Car Make')\n",
        "\n",
        "# Rotate x-axis labels for better readability\n",
        "plt.xticks(rotation=90)\n",
        "\n",
        "# Show the plot with adjusted layout for better spacing\n",
        "plt.tight_layout()\n",
        "plt.show()\n",
        "\n",
        "# Calculate statistics for distribution analysis\n",
        "price_stats = df.groupby('make')['sellingprice'].describe()\n",
        "\n",
        "# Determine the car makes with the widest distribution (highest IQR)\n",
        "price_stats['IQR'] = price_stats['75%'] - price_stats['25%']  # Interquartile range\n",
        "widest_distribution_makes = price_stats.nlargest(2, 'IQR')\n",
        "\n",
        "# Determine the car makes with the highest average selling price\n",
        "highest_avg_price_makes = price_stats.nlargest(2, 'mean')\n",
        "\n",
        "# Display the results\n",
        "print(\"Car makes with the widest distribution of selling prices:\")\n",
        "print(widest_distribution_makes)\n",
        "\n",
        "print(\"\\nCar makes with the highest average selling prices:\")\n",
        "print(highest_avg_price_makes)\n"
      ]
    },
    {
      "cell_type": "markdown",
      "metadata": {
        "id": "yymbbFO3pcpS"
      },
      "source": [
        "Porsche and Maserati are the widest distribution of selling price\n",
        "\n",
        "\n",
        "Ferrari and Bentley are highest average selling price"
      ]
    },
    {
      "cell_type": "markdown",
      "metadata": {
        "id": "p4_PjzDypcpS"
      },
      "source": [
        "\\\\**Q4: How correlated is the odometer reading or mileage with the car's sale price? (Hint: plot a line of best fit.)**"
      ]
    },
    {
      "cell_type": "markdown",
      "metadata": {
        "id": "E7gARSUapcpS"
      },
      "source": [
        "**Visualization**"
      ]
    },
    {
      "cell_type": "code",
      "execution_count": null,
      "metadata": {
        "id": "Cdu3nu-TpcpS"
      },
      "outputs": [],
      "source": [
        "import pandas as pd\n",
        "import matplotlib.pyplot as plt\n",
        "import seaborn as sns\n",
        "\n",
        "# Convert 'sellingprice' to string, clean it, and then convert back to float\n",
        "df['sellingprice'] = df['sellingprice'].astype(str).str.replace('[\\$,]', '', regex=True).astype(float)\n",
        "\n",
        "# Convert 'odometer' to string, clean it, and then convert back to float\n",
        "df['odometer'] = df['odometer'].astype(str).str.replace('[\\smi,]', '', regex=True).astype(float)\n",
        "\n",
        "# Create a scatter plot with a regression line to show the relationship between 'odometer' and 'sellingprice'\n",
        "plt.figure(figsize=(10, 6))\n",
        "sns.regplot(x='odometer', y='sellingprice', data=df, scatter_kws={'alpha': 0.5}, line_kws={\"color\": \"red\"})\n",
        "plt.title('Odometer vs. Selling Price')\n",
        "plt.xlabel('Odometer (miles)')\n",
        "plt.ylabel('Selling Price ($)')\n",
        "plt.show()\n",
        "\n",
        "# Calculate and print the correlation between 'odometer' and 'sellingprice'\n",
        "correlation = df['odometer'].corr(df['sellingprice'])\n",
        "print(f\"Correlation between odometer and selling price: {correlation:.2f}\")\n"
      ]
    },
    {
      "cell_type": "markdown",
      "metadata": {
        "id": "tXCwkEI1pcpS"
      },
      "source": [
        "Correlation between odometer reading and selling price: -0.58\n"
      ]
    },
    {
      "cell_type": "markdown",
      "metadata": {
        "id": "gt5oNEDBpcpS"
      },
      "source": [
        "**Q5: Likewise, how correlated is the car's condition with its sale price? (Hint: plot a line of best fit.)**"
      ]
    },
    {
      "cell_type": "markdown",
      "metadata": {
        "id": "Ar8rOpuapcpT"
      },
      "source": [
        "**Visualization**"
      ]
    },
    {
      "cell_type": "code",
      "execution_count": null,
      "metadata": {
        "id": "6VyIwtl5pcpT"
      },
      "outputs": [],
      "source": [
        "import pandas as pd\n",
        "import matplotlib.pyplot as plt\n",
        "import seaborn as sns\n",
        "\n",
        "\n",
        "# Clean the selling price column by removing the dollar sign and converting to float\n",
        "df['sellingprice'] = df['sellingprice'].replace({'\\$': '', ',': ''}, regex=True).astype(float)\n",
        "\n",
        "# Check if 'condition' is in the right format; if necessary, convert it to a numeric type\n",
        "# Assuming 'condition' is already numeric; if it's categorical, you may need to map it\n",
        "df['condition'] = pd.to_numeric(df['condition'], errors='coerce')\n",
        "\n",
        "# Create a scatter plot with a line of best fit\n",
        "plt.figure(figsize=(10, 6))\n",
        "sns.regplot(x='condition', y='sellingprice', data=df, scatter_kws={'alpha': 0.5}, line_kws={\"color\": \"blue\"})\n",
        "plt.title('Correlation between Car Condition and Selling Price')\n",
        "plt.xlabel('Car Condition')\n",
        "plt.ylabel('Selling Price ($)')\n",
        "plt.grid()\n",
        "plt.show()\n",
        "\n",
        "# Calculate and display the correlation coefficient\n",
        "correlation = df['condition'].corr(df['sellingprice'])\n",
        "print(f\"Correlation between car condition and selling price: {correlation:.2f}\")\n"
      ]
    },
    {
      "cell_type": "markdown",
      "metadata": {
        "id": "XGzW6E-tpcpT"
      },
      "source": [
        "Correlation between car condition and selling price: 0.53"
      ]
    },
    {
      "cell_type": "markdown",
      "metadata": {
        "id": "_Sno-bgipcpT"
      },
      "source": [
        "**Q6: Are there differences in the average car price due to the car's body type? If so, rank their order and state the most expensive and least expensive car body type.**"
      ]
    },
    {
      "cell_type": "markdown",
      "metadata": {
        "id": "ZGQXuR5apcpT"
      },
      "source": [
        "**Visualization**"
      ]
    },
    {
      "cell_type": "code",
      "execution_count": null,
      "metadata": {
        "id": "ihtVGn4kpcpT"
      },
      "outputs": [],
      "source": [
        "import pandas as pd\n",
        "import matplotlib.pyplot as plt\n",
        "import seaborn as sns\n",
        "\n",
        "\n",
        "\n",
        "# Clean the selling price column by removing the dollar sign and converting to float\n",
        "df['sellingprice'] = df['sellingprice'].replace({'\\$': '', ',': ''}, regex=True).astype(float)\n",
        "\n",
        "# Calculate the average selling price by body type\n",
        "average_price_by_body = df.groupby('body')['sellingprice'].mean().sort_values(ascending=False)\n",
        "\n",
        "# Display the average prices\n",
        "print(\"Average Selling Price by Body Type:\")\n",
        "print(average_price_by_body)\n",
        "\n",
        "# Find the most and least expensive body types\n",
        "most_expensive_body_type = average_price_by_body.idxmax()\n",
        "least_expensive_body_type = average_price_by_body.idxmin()\n",
        "most_expensive_price = average_price_by_body.max()\n",
        "least_expensive_price = average_price_by_body.min()\n",
        "\n",
        "# Print the results\n",
        "print(f\"\\nMost Expensive Body Type: {most_expensive_body_type} (${most_expensive_price:.2f})\")\n",
        "print(f\"Least Expensive Body Type: {least_expensive_body_type} (${least_expensive_price:.2f})\")\n",
        "\n",
        "# Create a bar plot to visualize the average selling prices by body type\n",
        "plt.figure(figsize=(10, 6))\n",
        "sns.barplot(x=average_price_by_body.index, y=average_price_by_body.values, palette='viridis')\n",
        "plt.title('Average Selling Price by Car Body Type')\n",
        "plt.xlabel('Car Body Type')\n",
        "plt.ylabel('Average Selling Price ($)')\n",
        "\n",
        "# Rotate x-axis labels vertically and decrease font size\n",
        "plt.xticks(rotation=90, fontsize=8)  # Reduced fontsize for x-axis labels\n",
        "plt.grid(axis='y')\n",
        "plt.tight_layout()  # Automatically adjust subplot parameters to give specified padding\n",
        "plt.show()"
      ]
    },
    {
      "cell_type": "markdown",
      "metadata": {
        "id": "F9JVK_R_pcpT"
      },
      "source": [
        "the most expensive car body type is 'Convertible' and the least expensive one is 'Wagon'"
      ]
    },
    {
      "cell_type": "markdown",
      "metadata": {
        "id": "7COFmDovpcpY"
      },
      "source": [
        "## Data Preparation for Modelling\n",
        "\n",
        "_Apply any additional data preparation steps needed before modelling below. Show/output the changes to the dataset._"
      ]
    },
    {
      "cell_type": "code",
      "execution_count": null,
      "metadata": {
        "id": "4kTZyrlZpcpY"
      },
      "outputs": [],
      "source": [
        "selected_atrributes = ['make', 'model', 'trim', 'body', 'transmission', 'odometer', 'state', 'condition', 'color', 'interior', 'seller', 'sellingprice']\n",
        "df = df[selected_atrributes]\n",
        "# Data Pre-Processing: One-Hot Encoding for Categorical Variables\n",
        "categorical_columns = ['make', 'model', 'trim', 'body', 'transmission',  'state', 'color', 'interior', 'seller']\n",
        "\n",
        "df = pd.get_dummies(data=df, columns=categorical_columns, drop_first=True)\n",
        "# Display the cleaned dataset\n",
        "# Data Pre-Processing: Remove 'mi' suffix and convert to float for 'odometer'\n",
        "                       #Normalization\n",
        "df['sellingprice'] = df['sellingprice'].apply(lambda x: x.replace('$', '')if isinstance(x, str) else x)\n",
        "df['sellingprice'] = df['sellingprice'].astype(int)\n",
        "df['odometer'] = df['odometer'].apply(lambda x: x.replace('mi', '')if isinstance(x, str) else x)\n",
        "df['odometer'] = df['odometer'].astype(float)\n",
        "# Replace null values in 'odometer' with the mode\n",
        "odometer_mode = df['odometer'].mode()[0]\n",
        "df.head()\n"
      ]
    },
    {
      "cell_type": "markdown",
      "metadata": {
        "id": "1KYZbf8apcpZ"
      },
      "source": [
        "## Modelling\n",
        "\n",
        "_Apply the linear regression model below._"
      ]
    },
    {
      "cell_type": "code",
      "execution_count": null,
      "metadata": {
        "id": "1SzaIBHjpcpZ"
      },
      "outputs": [],
      "source": [
        "#Train-Test split\n",
        "from sklearn.model_selection import train_test_split\n",
        "from sklearn.linear_model import LinearRegression\n",
        "\n",
        "x = df.drop('sellingprice',axis=1) #we removed dependent variable\n",
        "y = df['sellingprice'] #we encoded dependent variable\n",
        "\n",
        "x_train, x_test, y_train, y_test = train_test_split(x,y,test_size=0.2,random_state=23)\n",
        "\n",
        "print('Training dataset size:', x_train.shape[0])\n",
        "print('Testing dataset size:', x_test.shape[0])\n"
      ]
    },
    {
      "cell_type": "code",
      "source": [
        "from sklearn.linear_model import LinearRegression\n",
        "\n",
        "lin_reg = LinearRegression()\n",
        "\n",
        "lin_reg.fit(x_train, y_train);"
      ],
      "metadata": {
        "colab": {
          "base_uri": "https://localhost:8080/",
          "height": 329
        },
        "id": "ED7sUC2hwVCv",
        "outputId": "b4d70b23-4368-4ae0-e38a-66dd16fe80b4"
      },
      "execution_count": 16,
      "outputs": [
        {
          "output_type": "error",
          "ename": "KeyboardInterrupt",
          "evalue": "",
          "traceback": [
            "\u001b[0;31m---------------------------------------------------------------------------\u001b[0m",
            "\u001b[0;31mKeyboardInterrupt\u001b[0m                         Traceback (most recent call last)",
            "\u001b[0;32m<ipython-input-16-b7acc7cb96d6>\u001b[0m in \u001b[0;36m<cell line: 5>\u001b[0;34m()\u001b[0m\n\u001b[1;32m      3\u001b[0m \u001b[0mlin_reg\u001b[0m \u001b[0;34m=\u001b[0m \u001b[0mLinearRegression\u001b[0m\u001b[0;34m(\u001b[0m\u001b[0;34m)\u001b[0m\u001b[0;34m\u001b[0m\u001b[0;34m\u001b[0m\u001b[0m\n\u001b[1;32m      4\u001b[0m \u001b[0;34m\u001b[0m\u001b[0m\n\u001b[0;32m----> 5\u001b[0;31m \u001b[0mlin_reg\u001b[0m\u001b[0;34m.\u001b[0m\u001b[0mfit\u001b[0m\u001b[0;34m(\u001b[0m\u001b[0mx_train\u001b[0m\u001b[0;34m,\u001b[0m \u001b[0my_train\u001b[0m\u001b[0;34m)\u001b[0m\u001b[0;34m;\u001b[0m\u001b[0;34m\u001b[0m\u001b[0;34m\u001b[0m\u001b[0m\n\u001b[0m",
            "\u001b[0;32m/usr/local/lib/python3.10/dist-packages/sklearn/base.py\u001b[0m in \u001b[0;36mwrapper\u001b[0;34m(estimator, *args, **kwargs)\u001b[0m\n\u001b[1;32m   1471\u001b[0m                 )\n\u001b[1;32m   1472\u001b[0m             ):\n\u001b[0;32m-> 1473\u001b[0;31m                 \u001b[0;32mreturn\u001b[0m \u001b[0mfit_method\u001b[0m\u001b[0;34m(\u001b[0m\u001b[0mestimator\u001b[0m\u001b[0;34m,\u001b[0m \u001b[0;34m*\u001b[0m\u001b[0margs\u001b[0m\u001b[0;34m,\u001b[0m \u001b[0;34m**\u001b[0m\u001b[0mkwargs\u001b[0m\u001b[0;34m)\u001b[0m\u001b[0;34m\u001b[0m\u001b[0;34m\u001b[0m\u001b[0m\n\u001b[0m\u001b[1;32m   1474\u001b[0m \u001b[0;34m\u001b[0m\u001b[0m\n\u001b[1;32m   1475\u001b[0m         \u001b[0;32mreturn\u001b[0m \u001b[0mwrapper\u001b[0m\u001b[0;34m\u001b[0m\u001b[0;34m\u001b[0m\u001b[0m\n",
            "\u001b[0;32m/usr/local/lib/python3.10/dist-packages/sklearn/linear_model/_base.py\u001b[0m in \u001b[0;36mfit\u001b[0;34m(self, X, y, sample_weight)\u001b[0m\n\u001b[1;32m    685\u001b[0m                 \u001b[0mself\u001b[0m\u001b[0;34m.\u001b[0m\u001b[0mcoef_\u001b[0m \u001b[0;34m=\u001b[0m \u001b[0mnp\u001b[0m\u001b[0;34m.\u001b[0m\u001b[0mvstack\u001b[0m\u001b[0;34m(\u001b[0m\u001b[0;34m[\u001b[0m\u001b[0mout\u001b[0m\u001b[0;34m[\u001b[0m\u001b[0;36m0\u001b[0m\u001b[0;34m]\u001b[0m \u001b[0;32mfor\u001b[0m \u001b[0mout\u001b[0m \u001b[0;32min\u001b[0m \u001b[0mouts\u001b[0m\u001b[0;34m]\u001b[0m\u001b[0;34m)\u001b[0m\u001b[0;34m\u001b[0m\u001b[0;34m\u001b[0m\u001b[0m\n\u001b[1;32m    686\u001b[0m         \u001b[0;32melse\u001b[0m\u001b[0;34m:\u001b[0m\u001b[0;34m\u001b[0m\u001b[0;34m\u001b[0m\u001b[0m\n\u001b[0;32m--> 687\u001b[0;31m             \u001b[0mself\u001b[0m\u001b[0;34m.\u001b[0m\u001b[0mcoef_\u001b[0m\u001b[0;34m,\u001b[0m \u001b[0m_\u001b[0m\u001b[0;34m,\u001b[0m \u001b[0mself\u001b[0m\u001b[0;34m.\u001b[0m\u001b[0mrank_\u001b[0m\u001b[0;34m,\u001b[0m \u001b[0mself\u001b[0m\u001b[0;34m.\u001b[0m\u001b[0msingular_\u001b[0m \u001b[0;34m=\u001b[0m \u001b[0mlinalg\u001b[0m\u001b[0;34m.\u001b[0m\u001b[0mlstsq\u001b[0m\u001b[0;34m(\u001b[0m\u001b[0mX\u001b[0m\u001b[0;34m,\u001b[0m \u001b[0my\u001b[0m\u001b[0;34m)\u001b[0m\u001b[0;34m\u001b[0m\u001b[0;34m\u001b[0m\u001b[0m\n\u001b[0m\u001b[1;32m    688\u001b[0m             \u001b[0mself\u001b[0m\u001b[0;34m.\u001b[0m\u001b[0mcoef_\u001b[0m \u001b[0;34m=\u001b[0m \u001b[0mself\u001b[0m\u001b[0;34m.\u001b[0m\u001b[0mcoef_\u001b[0m\u001b[0;34m.\u001b[0m\u001b[0mT\u001b[0m\u001b[0;34m\u001b[0m\u001b[0;34m\u001b[0m\u001b[0m\n\u001b[1;32m    689\u001b[0m \u001b[0;34m\u001b[0m\u001b[0m\n",
            "\u001b[0;32m/usr/local/lib/python3.10/dist-packages/scipy/linalg/_basic.py\u001b[0m in \u001b[0;36mlstsq\u001b[0;34m(a, b, cond, overwrite_a, overwrite_b, check_finite, lapack_driver)\u001b[0m\n\u001b[1;32m   1268\u001b[0m             \u001b[0;32mif\u001b[0m \u001b[0mreal_data\u001b[0m\u001b[0;34m:\u001b[0m\u001b[0;34m\u001b[0m\u001b[0;34m\u001b[0m\u001b[0m\n\u001b[1;32m   1269\u001b[0m                 \u001b[0mlwork\u001b[0m\u001b[0;34m,\u001b[0m \u001b[0miwork\u001b[0m \u001b[0;34m=\u001b[0m \u001b[0m_compute_lwork\u001b[0m\u001b[0;34m(\u001b[0m\u001b[0mlapack_lwork\u001b[0m\u001b[0;34m,\u001b[0m \u001b[0mm\u001b[0m\u001b[0;34m,\u001b[0m \u001b[0mn\u001b[0m\u001b[0;34m,\u001b[0m \u001b[0mnrhs\u001b[0m\u001b[0;34m,\u001b[0m \u001b[0mcond\u001b[0m\u001b[0;34m)\u001b[0m\u001b[0;34m\u001b[0m\u001b[0;34m\u001b[0m\u001b[0m\n\u001b[0;32m-> 1270\u001b[0;31m                 x, s, rank, info = lapack_func(a1, b1, lwork,\n\u001b[0m\u001b[1;32m   1271\u001b[0m                                                iwork, cond, False, False)\n\u001b[1;32m   1272\u001b[0m             \u001b[0;32melse\u001b[0m\u001b[0;34m:\u001b[0m  \u001b[0;31m# complex data\u001b[0m\u001b[0;34m\u001b[0m\u001b[0;34m\u001b[0m\u001b[0m\n",
            "\u001b[0;31mKeyboardInterrupt\u001b[0m: "
          ]
        }
      ]
    },
    {
      "cell_type": "code",
      "source": [
        "parameter = ['theta_0'] + ['theta_{}'.format(i+1) for i in range(x.shape[1])]\n",
        "columns = ['y-intersect'] + list(x.columns.values)\n",
        "sk_theta = pd.Series([lin_reg.intercept_] + list(lin_reg.coef_))\n",
        "\n",
        "parameter_df = pd.DataFrame({'parameter':parameter,'column':columns, 'theta_value': sk_theta})\n",
        "parameter_df"
      ],
      "metadata": {
        "id": "ONjeboYewe1b"
      },
      "execution_count": null,
      "outputs": []
    },
    {
      "cell_type": "markdown",
      "metadata": {
        "id": "wB0TyYoqpcpZ"
      },
      "source": [
        "## Model Evaluation & Validation\n",
        "\n",
        "_Evaluate the model you applied and check if it meets the necessary assumptions for the chosen model._"
      ]
    },
    {
      "cell_type": "code",
      "execution_count": null,
      "metadata": {
        "id": "cytd-gmppcpZ"
      },
      "outputs": [],
      "source": [
        "# sklearn regression module\n",
        "y_pred = lin_reg.predict(x_test)\n",
        "\n",
        "# Evaluation\n",
        "from sklearn.metrics import mean_squared_error\n",
        "rmse = mean_squared_error(y_pred, y_test, squared=False)\n",
        "\n",
        "# R_square\n",
        "\n",
        "print('The root mean square error (RMSE) is: ', rmse)\n",
        "print('R^2 obtained is:', R_square)"
      ]
    },
    {
      "cell_type": "markdown",
      "metadata": {
        "id": "WHb1hzBRpcpZ"
      },
      "source": [
        "## Conclusion and Recommendations\n",
        "\n",
        "Comment on the model accuracy and your findings from model evaluation and validation. State the problems (if any) and suggest possible solutions. Would you recommend this model for a used cars dealership that wants to get reliable estimates for used car prices?\n",
        "\n",
        "**Answer**: your answer here."
      ]
    }
  ],
  "metadata": {
    "interpreter": {
      "hash": "e7370f93d1d0cde622a1f8e1c04877d8463912d04d973331ad4851f04de6915a"
    },
    "kernelspec": {
      "display_name": "Python 3",
      "language": "python",
      "name": "python3"
    },
    "language_info": {
      "codemirror_mode": {
        "name": "ipython",
        "version": 3
      },
      "file_extension": ".py",
      "mimetype": "text/x-python",
      "name": "python",
      "nbconvert_exporter": "python",
      "pygments_lexer": "ipython3",
      "version": "3.8.3"
    },
    "colab": {
      "provenance": [],
      "include_colab_link": true
    }
  },
  "nbformat": 4,
  "nbformat_minor": 0
}